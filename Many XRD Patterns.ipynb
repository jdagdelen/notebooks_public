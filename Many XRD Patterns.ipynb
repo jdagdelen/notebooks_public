{
 "cells": [
  {
   "cell_type": "code",
   "execution_count": 3,
   "metadata": {
    "collapsed": false,
    "scrolled": false
   },
   "outputs": [
    {
     "name": "stdout",
     "output_type": "stream",
     "text": [
      "99\n"
     ]
    },
    {
     "ename": "TypeError",
     "evalue": "Required argument 'object' (pos 1) not found",
     "output_type": "error",
     "traceback": [
      "\u001b[0;31m---------------------------------------------------------------------------\u001b[0m",
      "\u001b[0;31mTypeError\u001b[0m                                 Traceback (most recent call last)",
      "\u001b[0;32m<ipython-input-3-7e1615db0576>\u001b[0m in \u001b[0;36m<module>\u001b[0;34m()\u001b[0m\n\u001b[1;32m     17\u001b[0m \u001b[0;34m\u001b[0m\u001b[0m\n\u001b[1;32m     18\u001b[0m \u001b[0mmaterials_array\u001b[0m \u001b[0;34m=\u001b[0m \u001b[0mnp\u001b[0m\u001b[0;34m.\u001b[0m\u001b[0marray\u001b[0m\u001b[0;34m(\u001b[0m\u001b[0mtwo_theta\u001b[0m\u001b[0;34m)\u001b[0m\u001b[0;34m\u001b[0m\u001b[0m\n\u001b[0;32m---> 19\u001b[0;31m \u001b[0mintensities_array\u001b[0m \u001b[0;34m=\u001b[0m \u001b[0mnp\u001b[0m\u001b[0;34m.\u001b[0m\u001b[0marray\u001b[0m\u001b[0;34m(\u001b[0m\u001b[0;34m)\u001b[0m\u001b[0;34m\u001b[0m\u001b[0m\n\u001b[0m\u001b[1;32m     20\u001b[0m \u001b[0;34m\u001b[0m\u001b[0m\n\u001b[1;32m     21\u001b[0m \u001b[0;32mfor\u001b[0m \u001b[0mmaterial\u001b[0m \u001b[0;32min\u001b[0m \u001b[0mquery\u001b[0m\u001b[0;34m[\u001b[0m\u001b[0;36m0\u001b[0m\u001b[0;34m:\u001b[0m\u001b[0;36m10\u001b[0m\u001b[0;34m]\u001b[0m\u001b[0;34m:\u001b[0m\u001b[0;34m\u001b[0m\u001b[0m\n",
      "\u001b[0;31mTypeError\u001b[0m: Required argument 'object' (pos 1) not found"
     ]
    }
   ],
   "source": [
    "from multiprocessing import freeze_support\n",
    "import numpy\n",
    "import xrayutilities as xu\n",
    "import matplotlib.pyplot as plt\n",
    "from pymatgen.matproj.rest import MPRester\n",
    "from xrayutilities.materials.cif import CIFFile\n",
    "from xrayutilities.materials.material import Crystal\n",
    "import numpy as np\n",
    "API_key = \"LIAT53wPuazdObp0\" #John's API key\n",
    "\n",
    "freeze_support()\n",
    "\n",
    "\n",
    "with MPRester(API_key) as r:\n",
    "    query = r.query({\"exp.tags\": {\"$regex\":'Perovskite*'}},{\"material_id\":1, \"structure\":1})\n",
    "    print(len(query))\n",
    "    \n",
    "materials_array = np.array(two_theta)\n",
    "intensities_array = np.array()\n",
    "\n",
    "for material in query[0:10]:\n",
    "    material_structure = material[\"structure\"]\n",
    "    material_id = material[\"material_id\"]\n",
    "    materials_array.append(material_id)\n",
    "    material_structure.to(fmt=\"cif\", filename=material_id+\".cif\") \n",
    "\n",
    "    AlPO4_xu_cif = CIFFile(material_id+\".cif\")\n",
    "    AlPO4_crystal_xu = Crystal(name=material_id, lat=AlPO4_xu_cif.SGLattice())\n",
    "\n",
    "    two_theta = numpy.arange(5, 80, 0.01)\n",
    "\n",
    "    AlPO4_powder = xu.simpack.smaterials.Powder(AlPO4_crystal_xu, 1)\n",
    "    pm = xu.simpack.PowderModel(AlPO4_powder, I0=100)\n",
    "    intensities = pm.simulate(two_theta)\n",
    "    entry = [two_theta, intensities]\n",
    "    \n",
    "    plt.title(material_id)\n",
    "    plt.plot(two_theta,intensities)\n",
    "    plt.xlabel(\"2 theta\")\n",
    "    plt.ylabel(\"Intensity\")\n",
    "    plt.show()"
   ]
  },
  {
   "cell_type": "code",
   "execution_count": 9,
   "metadata": {
    "collapsed": false
   },
   "outputs": [
    {
     "ename": "AttributeError",
     "evalue": "module 'numpy.linalg' has no attribute 'transpose'",
     "output_type": "error",
     "traceback": [
      "\u001b[0;31m---------------------------------------------------------------------------\u001b[0m",
      "\u001b[0;31mAttributeError\u001b[0m                            Traceback (most recent call last)",
      "\u001b[0;32m<ipython-input-9-2aec33e56f43>\u001b[0m in \u001b[0;36m<module>\u001b[0;34m()\u001b[0m\n\u001b[0;32m----> 1\u001b[0;31m \u001b[0mintensities_array\u001b[0m \u001b[0;34m=\u001b[0m \u001b[0mnp\u001b[0m\u001b[0;34m.\u001b[0m\u001b[0mlinalg\u001b[0m\u001b[0;34m.\u001b[0m\u001b[0mtranspose\u001b[0m\u001b[0;34m(\u001b[0m\u001b[0mnp\u001b[0m\u001b[0;34m.\u001b[0m\u001b[0marray\u001b[0m\u001b[0;34m(\u001b[0m\u001b[0mtwo_theta\u001b[0m\u001b[0;34m)\u001b[0m\u001b[0;34m)\u001b[0m\u001b[0;34m\u001b[0m\u001b[0m\n\u001b[0m\u001b[1;32m      2\u001b[0m \u001b[0mprint\u001b[0m\u001b[0;34m(\u001b[0m\u001b[0mintensities_array\u001b[0m\u001b[0;34m)\u001b[0m\u001b[0;34m\u001b[0m\u001b[0m\n",
      "\u001b[0;31mAttributeError\u001b[0m: module 'numpy.linalg' has no attribute 'transpose'"
     ]
    }
   ],
   "source": [
    "intensities_array = np.transpose(np.array(two_theta))\n",
    "print(intensities_array)"
   ]
  },
  {
   "cell_type": "code",
   "execution_count": null,
   "metadata": {
    "collapsed": false
   },
   "outputs": [],
   "source": []
  },
  {
   "cell_type": "code",
   "execution_count": null,
   "metadata": {
    "collapsed": true
   },
   "outputs": [],
   "source": []
  }
 ],
 "metadata": {
  "anaconda-cloud": {},
  "kernelspec": {
   "display_name": "Python [conda env:xray]",
   "language": "python",
   "name": "conda-env-xray-py"
  },
  "language_info": {
   "codemirror_mode": {
    "name": "ipython",
    "version": 3
   },
   "file_extension": ".py",
   "mimetype": "text/x-python",
   "name": "python",
   "nbconvert_exporter": "python",
   "pygments_lexer": "ipython3",
   "version": "3.5.2"
  }
 },
 "nbformat": 4,
 "nbformat_minor": 2
}
